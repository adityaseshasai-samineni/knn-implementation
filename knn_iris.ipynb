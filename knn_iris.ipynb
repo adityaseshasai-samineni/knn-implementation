{
 "cells": [
  {
   "cell_type": "code",
   "execution_count": 17,
   "id": "7f816633-af4d-4b7d-955b-780642c418c3",
   "metadata": {},
   "outputs": [],
   "source": [
    "import numpy as np\n",
    "import pandas as pd\n",
    "import math\n",
    "import matplotlib.pyplot as plt"
   ]
  },
  {
   "cell_type": "code",
   "execution_count": 18,
   "id": "02789caf-dd74-4b5d-b013-1262be1a7032",
   "metadata": {},
   "outputs": [],
   "source": [
    "from sklearn import datasets\n",
    "\n",
    "iris = datasets.load_iris()"
   ]
  },
  {
   "cell_type": "code",
   "execution_count": 19,
   "id": "41b85582-6904-4309-8dc8-45a35eb2d358",
   "metadata": {},
   "outputs": [],
   "source": [
    "iris = pd.DataFrame(\n",
    "    data= np.c_[iris['data'], iris['target']],\n",
    "    columns= iris['feature_names'] + ['target']\n",
    "    )\n",
    "species = []\n",
    "\n",
    "for i in range(len(iris['target'])):\n",
    "    if iris['target'][i] == 0:\n",
    "        species.append(\"setosa\")\n",
    "    elif iris['target'][i] == 1:\n",
    "        species.append('versicolor')\n",
    "    else:\n",
    "        species.append('virginica')\n",
    "\n",
    "iris['species'] = species"
   ]
  },
  {
   "cell_type": "code",
   "execution_count": 20,
   "id": "162166f1-c840-467f-b5ed-c17efa7cf197",
   "metadata": {},
   "outputs": [
    {
     "data": {
      "text/html": [
       "<div>\n",
       "<style scoped>\n",
       "    .dataframe tbody tr th:only-of-type {\n",
       "        vertical-align: middle;\n",
       "    }\n",
       "\n",
       "    .dataframe tbody tr th {\n",
       "        vertical-align: top;\n",
       "    }\n",
       "\n",
       "    .dataframe thead th {\n",
       "        text-align: right;\n",
       "    }\n",
       "</style>\n",
       "<table border=\"1\" class=\"dataframe\">\n",
       "  <thead>\n",
       "    <tr style=\"text-align: right;\">\n",
       "      <th></th>\n",
       "      <th>sepal length (cm)</th>\n",
       "      <th>sepal width (cm)</th>\n",
       "      <th>petal length (cm)</th>\n",
       "      <th>petal width (cm)</th>\n",
       "      <th>target</th>\n",
       "      <th>species</th>\n",
       "    </tr>\n",
       "  </thead>\n",
       "  <tbody>\n",
       "    <tr>\n",
       "      <th>0</th>\n",
       "      <td>5.1</td>\n",
       "      <td>3.5</td>\n",
       "      <td>1.4</td>\n",
       "      <td>0.2</td>\n",
       "      <td>0.0</td>\n",
       "      <td>setosa</td>\n",
       "    </tr>\n",
       "    <tr>\n",
       "      <th>1</th>\n",
       "      <td>4.9</td>\n",
       "      <td>3.0</td>\n",
       "      <td>1.4</td>\n",
       "      <td>0.2</td>\n",
       "      <td>0.0</td>\n",
       "      <td>setosa</td>\n",
       "    </tr>\n",
       "    <tr>\n",
       "      <th>2</th>\n",
       "      <td>4.7</td>\n",
       "      <td>3.2</td>\n",
       "      <td>1.3</td>\n",
       "      <td>0.2</td>\n",
       "      <td>0.0</td>\n",
       "      <td>setosa</td>\n",
       "    </tr>\n",
       "    <tr>\n",
       "      <th>3</th>\n",
       "      <td>4.6</td>\n",
       "      <td>3.1</td>\n",
       "      <td>1.5</td>\n",
       "      <td>0.2</td>\n",
       "      <td>0.0</td>\n",
       "      <td>setosa</td>\n",
       "    </tr>\n",
       "    <tr>\n",
       "      <th>4</th>\n",
       "      <td>5.0</td>\n",
       "      <td>3.6</td>\n",
       "      <td>1.4</td>\n",
       "      <td>0.2</td>\n",
       "      <td>0.0</td>\n",
       "      <td>setosa</td>\n",
       "    </tr>\n",
       "  </tbody>\n",
       "</table>\n",
       "</div>"
      ],
      "text/plain": [
       "   sepal length (cm)  sepal width (cm)  petal length (cm)  petal width (cm)  \\\n",
       "0                5.1               3.5                1.4               0.2   \n",
       "1                4.9               3.0                1.4               0.2   \n",
       "2                4.7               3.2                1.3               0.2   \n",
       "3                4.6               3.1                1.5               0.2   \n",
       "4                5.0               3.6                1.4               0.2   \n",
       "\n",
       "   target species  \n",
       "0     0.0  setosa  \n",
       "1     0.0  setosa  \n",
       "2     0.0  setosa  \n",
       "3     0.0  setosa  \n",
       "4     0.0  setosa  "
      ]
     },
     "execution_count": 20,
     "metadata": {},
     "output_type": "execute_result"
    }
   ],
   "source": [
    "iris.head()"
   ]
  },
  {
   "cell_type": "code",
   "execution_count": 21,
   "id": "d4a5b8fa-fa36-400d-ac92-a7ff2661376d",
   "metadata": {},
   "outputs": [],
   "source": [
    "size = len(iris)\n",
    "test_size = 0.3"
   ]
  },
  {
   "cell_type": "code",
   "execution_count": 22,
   "id": "aab61aec-cf22-4bb1-8b53-7c1e27664266",
   "metadata": {},
   "outputs": [
    {
     "data": {
      "text/plain": [
       "45"
      ]
     },
     "execution_count": 22,
     "metadata": {},
     "output_type": "execute_result"
    }
   ],
   "source": [
    "iris_test = iris.sample(frac=0.3,random_state=5)\n",
    "len(iris_test)"
   ]
  },
  {
   "cell_type": "code",
   "execution_count": 23,
   "id": "e328e2e7-b227-4a10-a02c-745e3be45c82",
   "metadata": {},
   "outputs": [
    {
     "data": {
      "text/html": [
       "<div>\n",
       "<style scoped>\n",
       "    .dataframe tbody tr th:only-of-type {\n",
       "        vertical-align: middle;\n",
       "    }\n",
       "\n",
       "    .dataframe tbody tr th {\n",
       "        vertical-align: top;\n",
       "    }\n",
       "\n",
       "    .dataframe thead th {\n",
       "        text-align: right;\n",
       "    }\n",
       "</style>\n",
       "<table border=\"1\" class=\"dataframe\">\n",
       "  <thead>\n",
       "    <tr style=\"text-align: right;\">\n",
       "      <th></th>\n",
       "      <th>species</th>\n",
       "    </tr>\n",
       "  </thead>\n",
       "  <tbody>\n",
       "    <tr>\n",
       "      <th>82</th>\n",
       "      <td>versicolor</td>\n",
       "    </tr>\n",
       "    <tr>\n",
       "      <th>134</th>\n",
       "      <td>virginica</td>\n",
       "    </tr>\n",
       "    <tr>\n",
       "      <th>114</th>\n",
       "      <td>virginica</td>\n",
       "    </tr>\n",
       "    <tr>\n",
       "      <th>42</th>\n",
       "      <td>setosa</td>\n",
       "    </tr>\n",
       "    <tr>\n",
       "      <th>109</th>\n",
       "      <td>virginica</td>\n",
       "    </tr>\n",
       "  </tbody>\n",
       "</table>\n",
       "</div>"
      ],
      "text/plain": [
       "        species\n",
       "82   versicolor\n",
       "134   virginica\n",
       "114   virginica\n",
       "42       setosa\n",
       "109   virginica"
      ]
     },
     "execution_count": 23,
     "metadata": {},
     "output_type": "execute_result"
    }
   ],
   "source": [
    "test = iris_test.drop(['target','species'],axis=1)\n",
    "test_labels = iris_test.loc[:,['species']]\n",
    "test_labels.head()"
   ]
  },
  {
   "cell_type": "code",
   "execution_count": 24,
   "id": "27e0d6a0-a82e-4d40-a6db-acef7e852497",
   "metadata": {},
   "outputs": [
    {
     "data": {
      "text/html": [
       "<div>\n",
       "<style scoped>\n",
       "    .dataframe tbody tr th:only-of-type {\n",
       "        vertical-align: middle;\n",
       "    }\n",
       "\n",
       "    .dataframe tbody tr th {\n",
       "        vertical-align: top;\n",
       "    }\n",
       "\n",
       "    .dataframe thead th {\n",
       "        text-align: right;\n",
       "    }\n",
       "</style>\n",
       "<table border=\"1\" class=\"dataframe\">\n",
       "  <thead>\n",
       "    <tr style=\"text-align: right;\">\n",
       "      <th></th>\n",
       "      <th>species</th>\n",
       "    </tr>\n",
       "  </thead>\n",
       "  <tbody>\n",
       "    <tr>\n",
       "      <th>0</th>\n",
       "      <td>setosa</td>\n",
       "    </tr>\n",
       "    <tr>\n",
       "      <th>2</th>\n",
       "      <td>setosa</td>\n",
       "    </tr>\n",
       "    <tr>\n",
       "      <th>3</th>\n",
       "      <td>setosa</td>\n",
       "    </tr>\n",
       "    <tr>\n",
       "      <th>4</th>\n",
       "      <td>setosa</td>\n",
       "    </tr>\n",
       "    <tr>\n",
       "      <th>5</th>\n",
       "      <td>setosa</td>\n",
       "    </tr>\n",
       "  </tbody>\n",
       "</table>\n",
       "</div>"
      ],
      "text/plain": [
       "  species\n",
       "0  setosa\n",
       "2  setosa\n",
       "3  setosa\n",
       "4  setosa\n",
       "5  setosa"
      ]
     },
     "execution_count": 24,
     "metadata": {},
     "output_type": "execute_result"
    }
   ],
   "source": [
    "iris= iris.drop(iris_test.index)\n",
    "train = iris.drop(['target','species'],axis=1)\n",
    "train_labels = iris.loc[:,['species']]\n",
    "train_labels.head()"
   ]
  },
  {
   "cell_type": "code",
   "execution_count": 25,
   "id": "eecf9406-488f-40e1-b471-7f0f7f31497d",
   "metadata": {},
   "outputs": [],
   "source": [
    "def euclidian(x,y):\n",
    "    return math.sqrt(np.sum((x-y)**2))"
   ]
  },
  {
   "cell_type": "code",
   "execution_count": 26,
   "id": "4c2ab616-0513-4307-a562-f746dc73252d",
   "metadata": {},
   "outputs": [],
   "source": [
    "def predict(list1, list2, k):\n",
    "    zipped_pairs = zip(list2, list1)\n",
    "    # print(zipped_pairs)\n",
    "    z = [x for _, x in sorted(zipped_pairs)]\n",
    "    # print(z)\n",
    "    dic = {}\n",
    "    for i in range(k):\n",
    "        if z[i] in dic.keys():\n",
    "            dic[z[i]]+=1\n",
    "        else:\n",
    "            dic[z[i]]=1\n",
    "    # print(dic)\n",
    "    cl = max(zip(dic.values(), dic.keys()))[1]\n",
    "    return cl"
   ]
  },
  {
   "cell_type": "code",
   "execution_count": 27,
   "id": "42ba9761-9517-438d-8c1d-9873e888c577",
   "metadata": {},
   "outputs": [],
   "source": [
    "def knn(train,train_labels,test,k):\n",
    "    output_labels = []\n",
    "    for i in test:\n",
    "        lis = []\n",
    "        lab = train_labels['species'].to_list()\n",
    "        for j in train:\n",
    "            lis.append(euclidian(i,j))\n",
    "        # print(len(lis),type(lab))\n",
    "        output_labels.append(predict(lab,lis,k))\n",
    "    return output_labels"
   ]
  },
  {
   "cell_type": "code",
   "execution_count": 28,
   "id": "3f782ea5-eb8d-47a4-91ce-9e3127983b8f",
   "metadata": {},
   "outputs": [],
   "source": [
    "train = train.to_numpy()\n",
    "test = test.to_numpy()\n",
    "out = knn(train,train_labels,test,5)"
   ]
  },
  {
   "cell_type": "code",
   "execution_count": 29,
   "id": "4df38613-2dd5-4b02-ad7f-c80a8fad4561",
   "metadata": {},
   "outputs": [
    {
     "name": "stdout",
     "output_type": "stream",
     "text": [
      "accuracy: 0.9555555555555556\n"
     ]
    }
   ],
   "source": [
    "## compare with original list\n",
    "org_list = test_labels['species'].to_list()\n",
    "# print(len(org_list))\n",
    "c=0\n",
    "## setosa\n",
    "for i in range(len(out)):\n",
    "    if out[i]==org_list[i]:\n",
    "        c+=1\n",
    "acc = c/len(out)      \n",
    "print('accuracy:',acc)"
   ]
  },
  {
   "cell_type": "code",
   "execution_count": 30,
   "id": "721ab39f-26b0-4555-a1be-528be43894f2",
   "metadata": {},
   "outputs": [
    {
     "data": {
      "text/plain": [
       "(15, 16, 14)"
      ]
     },
     "execution_count": 30,
     "metadata": {},
     "output_type": "execute_result"
    }
   ],
   "source": [
    "### actual values\n",
    "sc = org_list.count('setosa')\n",
    "vec = org_list.count('versicolor')\n",
    "vic = org_list.count('virginica')\n",
    "sc,vec,vic"
   ]
  },
  {
   "cell_type": "code",
   "execution_count": 31,
   "id": "2e5da57d-9eac-4088-9257-c68a9c7ed01a",
   "metadata": {},
   "outputs": [
    {
     "name": "stdout",
     "output_type": "stream",
     "text": [
      "[[15  0  0]\n",
      " [ 0 14  2]\n",
      " [ 0  0 14]]\n"
     ]
    }
   ],
   "source": [
    "a11,a12,a13=0,0,0\n",
    "a21,a22,a23=0,0,0\n",
    "a31,a32,a33=0,0,0\n",
    "for i in range(len(out)):\n",
    "    if out[i]==org_list[i]:\n",
    "        if out[i] == 'setosa':\n",
    "            a11+=1\n",
    "        elif out[i] == 'versicolor':\n",
    "            a22+=1\n",
    "        else:\n",
    "            a33+=1\n",
    "    else:\n",
    "        if out[i]=='setosa':\n",
    "            if org_list[i]=='versicolor':\n",
    "                a21+=1\n",
    "            else:\n",
    "                a31+=1\n",
    "        if out[i]=='versicolor':\n",
    "            if org_list[i]=='setosa':\n",
    "                a12+=1\n",
    "            else:\n",
    "                a32+=1\n",
    "        if out[i]=='virginica':\n",
    "            if org_list[i]=='setosa':\n",
    "                a13+=1\n",
    "            else:\n",
    "                a23+=1\n",
    "arr = [[a11,a12,a13],[a21,a22,a23],[a31,a32,a33]]\n",
    "arr = np.array(arr)\n",
    "print(arr)"
   ]
  },
  {
   "cell_type": "code",
   "execution_count": 33,
   "id": "454982ba-6a7b-48bc-aa90-d47e477102fd",
   "metadata": {},
   "outputs": [],
   "source": [
    "acc_list = []\n",
    "for k in range(1,21):\n",
    "    out = knn(train,train_labels,test,k)\n",
    "    c=0\n",
    "    for i in range(len(out)):\n",
    "        if out[i]==org_list[i]:\n",
    "            c+=1\n",
    "    acc = c/len(out)\n",
    "    acc_list.append(acc)"
   ]
  },
  {
   "cell_type": "code",
   "execution_count": 34,
   "id": "057290b3-14c6-4ace-9e5d-b9c32cffd42f",
   "metadata": {},
   "outputs": [
    {
     "data": {
      "image/png": "[encoded data removed]",
      "text/plain": [
       "<Figure size 640x480 with 1 Axes>"
      ]
     },
     "metadata": {},
     "output_type": "display_data"
    }
   ],
   "source": [
    "x=[x for x in range(1,21)]\n",
    "plt.plot(x, acc_list)\n",
    "plt.xlabel('k (Number of Neighbors)')\n",
    "plt.ylabel('Accuracy')\n",
    "plt.show()"
   ]
  },
  {
   "cell_type": "code",
   "execution_count": null,
   "id": "a7ca6fcb-6a3e-4df2-b8df-48b91e08072f",
   "metadata": {},
   "outputs": [],
   "source": []
  }
 ],
 "metadata": {
  "kernelspec": {
   "display_name": "Python 3 (ipykernel)",
   "language": "python",
   "name": "python3"
  },
  "language_info": {
   "codemirror_mode": {
    "name": "ipython",
    "version": 3
   },
   "file_extension": ".py",
   "mimetype": "text/x-python",
   "name": "python",
   "nbconvert_exporter": "python",
   "pygments_lexer": "ipython3",
   "version": "3.12.2"
  }
 },
 "nbformat": 4,
 "nbformat_minor": 5
}
