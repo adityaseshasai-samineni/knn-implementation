{
 "cells": [
  {
   "cell_type": "markdown",
   "id": "e562c617-28f4-498c-8e8f-57afa3471b8e",
   "metadata": {},
   "source": [
    "# AP21110011627\n",
    "# Lab 8"
   ]
  },
  {
   "cell_type": "code",
   "execution_count": 30,
   "id": "0bbeece9-8176-441e-95f7-f37c86771da4",
   "metadata": {},
   "outputs": [],
   "source": [
    "import numpy as np\n",
    "import pandas as pd\n",
    "import math\n",
    "import matplotlib.pyplot as plt"
   ]
  },
  {
   "cell_type": "code",
   "execution_count": 31,
   "id": "222d6cb3-82a8-4356-aeb3-79e9df90fa3c",
   "metadata": {},
   "outputs": [],
   "source": [
    "def euclidian(x,y):\n",
    "    return math.sqrt(np.sum((x-y)**2))"
   ]
  },
  {
   "cell_type": "code",
   "execution_count": 32,
   "id": "84085db3-28f7-4b04-bd6b-ddfd8f1edd82",
   "metadata": {},
   "outputs": [],
   "source": [
    "def predict(list1, list2, k):\n",
    "    zipped_pairs = zip(list2, list1)\n",
    "    # print(zipped_pairs)\n",
    "    z = [x for _, x in sorted(zipped_pairs)]\n",
    "    # print(z)\n",
    "    dic = {}\n",
    "    for i in range(k):\n",
    "        if z[i] in dic.keys():\n",
    "            dic[z[i]]+=1\n",
    "        else:\n",
    "            dic[z[i]]=1\n",
    "    # print(dic)\n",
    "    cl = max(zip(dic.values(), dic.keys()))[1]\n",
    "    return cl"
   ]
  },
  {
   "cell_type": "code",
   "execution_count": 33,
   "id": "ca111fef-2ca2-4319-8fdf-13b156f49abc",
   "metadata": {},
   "outputs": [],
   "source": [
    "def knn(train,train_labels,test,k):\n",
    "    output_labels = []\n",
    "    for i in test:\n",
    "        lis = []\n",
    "        for j in train:\n",
    "            lis.append(euclidian(i,j))\n",
    "        # print(len(lis),type(lab))\n",
    "        output_labels.append(predict(train_labels,lis,k))\n",
    "    return output_labels"
   ]
  },
  {
   "cell_type": "markdown",
   "id": "61239f77-efe5-4ecc-be47-4d002bc9ab57",
   "metadata": {},
   "source": [
    "## mtcars dataset"
   ]
  },
  {
   "cell_type": "markdown",
   "id": "5d03d2c0-4e2e-4e95-8332-009c35304f9b",
   "metadata": {},
   "source": [
    "## 1-a"
   ]
  },
  {
   "cell_type": "code",
   "execution_count": 34,
   "id": "407d979f-3d0c-4391-8714-f86c0859db10",
   "metadata": {},
   "outputs": [],
   "source": [
    "mtdf = pd.read_csv(\"mtcars.csv\")"
   ]
  },
  {
   "cell_type": "code",
   "execution_count": 35,
   "id": "97cb887a-c981-4faf-8070-b76d4967c861",
   "metadata": {},
   "outputs": [
    {
     "name": "stdout",
     "output_type": "stream",
     "text": [
      "20.090625000000003\n"
     ]
    }
   ],
   "source": [
    "print(np.mean(mtdf['mpg']))"
   ]
  },
  {
   "cell_type": "markdown",
   "id": "721425cf-b6c8-40dd-8722-3d9f0c543f32",
   "metadata": {},
   "source": [
    "**lets classify a car is fuel efficient (1) if its mpg is greater than 20; else not fuel efficient (2)**\n",
    "- taking mean as a separator."
   ]
  },
  {
   "cell_type": "code",
   "execution_count": 36,
   "id": "3eb7108d-de7d-49ff-b43c-749b1d8f503f",
   "metadata": {},
   "outputs": [],
   "source": [
    "mtdf['fuel_efficient'] = [1 if i > 20 else 0 for i in mtdf['mpg']]"
   ]
  },
  {
   "cell_type": "code",
   "execution_count": 37,
   "id": "e556a73b-68f6-4a37-adcc-4daf2d817385",
   "metadata": {},
   "outputs": [
    {
     "data": {
      "text/html": [
       "<div>\n",
       "<style scoped>\n",
       "    .dataframe tbody tr th:only-of-type {\n",
       "        vertical-align: middle;\n",
       "    }\n",
       "\n",
       "    .dataframe tbody tr th {\n",
       "        vertical-align: top;\n",
       "    }\n",
       "\n",
       "    .dataframe thead th {\n",
       "        text-align: right;\n",
       "    }\n",
       "</style>\n",
       "<table border=\"1\" class=\"dataframe\">\n",
       "  <thead>\n",
       "    <tr style=\"text-align: right;\">\n",
       "      <th></th>\n",
       "      <th>model</th>\n",
       "      <th>mpg</th>\n",
       "      <th>cyl</th>\n",
       "      <th>disp</th>\n",
       "      <th>hp</th>\n",
       "      <th>drat</th>\n",
       "      <th>wt</th>\n",
       "      <th>qsec</th>\n",
       "      <th>vs</th>\n",
       "      <th>am</th>\n",
       "      <th>gear</th>\n",
       "      <th>carb</th>\n",
       "      <th>fuel_efficient</th>\n",
       "    </tr>\n",
       "  </thead>\n",
       "  <tbody>\n",
       "    <tr>\n",
       "      <th>0</th>\n",
       "      <td>Mazda RX4</td>\n",
       "      <td>21.0</td>\n",
       "      <td>6</td>\n",
       "      <td>160.0</td>\n",
       "      <td>110</td>\n",
       "      <td>3.90</td>\n",
       "      <td>2.620</td>\n",
       "      <td>16.46</td>\n",
       "      <td>0</td>\n",
       "      <td>1</td>\n",
       "      <td>4</td>\n",
       "      <td>4</td>\n",
       "      <td>1</td>\n",
       "    </tr>\n",
       "    <tr>\n",
       "      <th>1</th>\n",
       "      <td>Mazda RX4 Wag</td>\n",
       "      <td>21.0</td>\n",
       "      <td>6</td>\n",
       "      <td>160.0</td>\n",
       "      <td>110</td>\n",
       "      <td>3.90</td>\n",
       "      <td>2.875</td>\n",
       "      <td>17.02</td>\n",
       "      <td>0</td>\n",
       "      <td>1</td>\n",
       "      <td>4</td>\n",
       "      <td>4</td>\n",
       "      <td>1</td>\n",
       "    </tr>\n",
       "    <tr>\n",
       "      <th>2</th>\n",
       "      <td>Datsun 710</td>\n",
       "      <td>22.8</td>\n",
       "      <td>4</td>\n",
       "      <td>108.0</td>\n",
       "      <td>93</td>\n",
       "      <td>3.85</td>\n",
       "      <td>2.320</td>\n",
       "      <td>18.61</td>\n",
       "      <td>1</td>\n",
       "      <td>1</td>\n",
       "      <td>4</td>\n",
       "      <td>1</td>\n",
       "      <td>1</td>\n",
       "    </tr>\n",
       "    <tr>\n",
       "      <th>3</th>\n",
       "      <td>Hornet 4 Drive</td>\n",
       "      <td>21.4</td>\n",
       "      <td>6</td>\n",
       "      <td>258.0</td>\n",
       "      <td>110</td>\n",
       "      <td>3.08</td>\n",
       "      <td>3.215</td>\n",
       "      <td>19.44</td>\n",
       "      <td>1</td>\n",
       "      <td>0</td>\n",
       "      <td>3</td>\n",
       "      <td>1</td>\n",
       "      <td>1</td>\n",
       "    </tr>\n",
       "    <tr>\n",
       "      <th>4</th>\n",
       "      <td>Hornet Sportabout</td>\n",
       "      <td>18.7</td>\n",
       "      <td>8</td>\n",
       "      <td>360.0</td>\n",
       "      <td>175</td>\n",
       "      <td>3.15</td>\n",
       "      <td>3.440</td>\n",
       "      <td>17.02</td>\n",
       "      <td>0</td>\n",
       "      <td>0</td>\n",
       "      <td>3</td>\n",
       "      <td>2</td>\n",
       "      <td>0</td>\n",
       "    </tr>\n",
       "  </tbody>\n",
       "</table>\n",
       "</div>"
      ],
      "text/plain": [
       "               model   mpg  cyl   disp   hp  drat     wt   qsec  vs  am  gear  \\\n",
       "0          Mazda RX4  21.0    6  160.0  110  3.90  2.620  16.46   0   1     4   \n",
       "1      Mazda RX4 Wag  21.0    6  160.0  110  3.90  2.875  17.02   0   1     4   \n",
       "2         Datsun 710  22.8    4  108.0   93  3.85  2.320  18.61   1   1     4   \n",
       "3     Hornet 4 Drive  21.4    6  258.0  110  3.08  3.215  19.44   1   0     3   \n",
       "4  Hornet Sportabout  18.7    8  360.0  175  3.15  3.440  17.02   0   0     3   \n",
       "\n",
       "   carb  fuel_efficient  \n",
       "0     4               1  \n",
       "1     4               1  \n",
       "2     1               1  \n",
       "3     1               1  \n",
       "4     2               0  "
      ]
     },
     "execution_count": 37,
     "metadata": {},
     "output_type": "execute_result"
    }
   ],
   "source": [
    "mtdf.head()"
   ]
  },
  {
   "cell_type": "code",
   "execution_count": 38,
   "id": "9b3b1b47-f684-4022-90bd-2f76899f9b18",
   "metadata": {},
   "outputs": [],
   "source": [
    "df = mtdf.drop(['model','mpg','fuel_efficient'],axis=1)\n",
    "df_label = pd.DataFrame(mtdf['fuel_efficient'])"
   ]
  },
  {
   "cell_type": "markdown",
   "id": "067e4ab4-4bbe-4adb-ada9-2c6ef3fede14",
   "metadata": {},
   "source": [
    "## 1-b"
   ]
  },
  {
   "cell_type": "markdown",
   "id": "c8ea90f3-586b-45a2-9993-528147bf4fa3",
   "metadata": {},
   "source": [
    "#### even numbered rows for train and odd numbered rows for test."
   ]
  },
  {
   "cell_type": "code",
   "execution_count": 39,
   "id": "4c474506-ede2-4b52-a5f9-80b528be2d0f",
   "metadata": {},
   "outputs": [],
   "source": [
    "train = df.iloc[::2]\n",
    "test = df.iloc[1::2]"
   ]
  },
  {
   "cell_type": "code",
   "execution_count": 40,
   "id": "9fae388e-0438-4845-9720-9311a8883606",
   "metadata": {},
   "outputs": [
    {
     "data": {
      "text/html": [
       "<div>\n",
       "<style scoped>\n",
       "    .dataframe tbody tr th:only-of-type {\n",
       "        vertical-align: middle;\n",
       "    }\n",
       "\n",
       "    .dataframe tbody tr th {\n",
       "        vertical-align: top;\n",
       "    }\n",
       "\n",
       "    .dataframe thead th {\n",
       "        text-align: right;\n",
       "    }\n",
       "</style>\n",
       "<table border=\"1\" class=\"dataframe\">\n",
       "  <thead>\n",
       "    <tr style=\"text-align: right;\">\n",
       "      <th></th>\n",
       "      <th>cyl</th>\n",
       "      <th>disp</th>\n",
       "      <th>hp</th>\n",
       "      <th>drat</th>\n",
       "      <th>wt</th>\n",
       "      <th>qsec</th>\n",
       "      <th>vs</th>\n",
       "      <th>am</th>\n",
       "      <th>gear</th>\n",
       "      <th>carb</th>\n",
       "    </tr>\n",
       "  </thead>\n",
       "  <tbody>\n",
       "    <tr>\n",
       "      <th>1</th>\n",
       "      <td>6</td>\n",
       "      <td>160.0</td>\n",
       "      <td>110</td>\n",
       "      <td>3.90</td>\n",
       "      <td>2.875</td>\n",
       "      <td>17.02</td>\n",
       "      <td>0</td>\n",
       "      <td>1</td>\n",
       "      <td>4</td>\n",
       "      <td>4</td>\n",
       "    </tr>\n",
       "    <tr>\n",
       "      <th>3</th>\n",
       "      <td>6</td>\n",
       "      <td>258.0</td>\n",
       "      <td>110</td>\n",
       "      <td>3.08</td>\n",
       "      <td>3.215</td>\n",
       "      <td>19.44</td>\n",
       "      <td>1</td>\n",
       "      <td>0</td>\n",
       "      <td>3</td>\n",
       "      <td>1</td>\n",
       "    </tr>\n",
       "    <tr>\n",
       "      <th>5</th>\n",
       "      <td>6</td>\n",
       "      <td>225.0</td>\n",
       "      <td>105</td>\n",
       "      <td>2.76</td>\n",
       "      <td>3.460</td>\n",
       "      <td>20.22</td>\n",
       "      <td>1</td>\n",
       "      <td>0</td>\n",
       "      <td>3</td>\n",
       "      <td>1</td>\n",
       "    </tr>\n",
       "    <tr>\n",
       "      <th>7</th>\n",
       "      <td>4</td>\n",
       "      <td>146.7</td>\n",
       "      <td>62</td>\n",
       "      <td>3.69</td>\n",
       "      <td>3.190</td>\n",
       "      <td>20.00</td>\n",
       "      <td>1</td>\n",
       "      <td>0</td>\n",
       "      <td>4</td>\n",
       "      <td>2</td>\n",
       "    </tr>\n",
       "    <tr>\n",
       "      <th>9</th>\n",
       "      <td>6</td>\n",
       "      <td>167.6</td>\n",
       "      <td>123</td>\n",
       "      <td>3.92</td>\n",
       "      <td>3.440</td>\n",
       "      <td>18.30</td>\n",
       "      <td>1</td>\n",
       "      <td>0</td>\n",
       "      <td>4</td>\n",
       "      <td>4</td>\n",
       "    </tr>\n",
       "    <tr>\n",
       "      <th>11</th>\n",
       "      <td>8</td>\n",
       "      <td>275.8</td>\n",
       "      <td>180</td>\n",
       "      <td>3.07</td>\n",
       "      <td>4.070</td>\n",
       "      <td>17.40</td>\n",
       "      <td>0</td>\n",
       "      <td>0</td>\n",
       "      <td>3</td>\n",
       "      <td>3</td>\n",
       "    </tr>\n",
       "    <tr>\n",
       "      <th>13</th>\n",
       "      <td>8</td>\n",
       "      <td>275.8</td>\n",
       "      <td>180</td>\n",
       "      <td>3.07</td>\n",
       "      <td>3.780</td>\n",
       "      <td>18.00</td>\n",
       "      <td>0</td>\n",
       "      <td>0</td>\n",
       "      <td>3</td>\n",
       "      <td>3</td>\n",
       "    </tr>\n",
       "    <tr>\n",
       "      <th>15</th>\n",
       "      <td>8</td>\n",
       "      <td>460.0</td>\n",
       "      <td>215</td>\n",
       "      <td>3.00</td>\n",
       "      <td>5.424</td>\n",
       "      <td>17.82</td>\n",
       "      <td>0</td>\n",
       "      <td>0</td>\n",
       "      <td>3</td>\n",
       "      <td>4</td>\n",
       "    </tr>\n",
       "    <tr>\n",
       "      <th>17</th>\n",
       "      <td>4</td>\n",
       "      <td>78.7</td>\n",
       "      <td>66</td>\n",
       "      <td>4.08</td>\n",
       "      <td>2.200</td>\n",
       "      <td>19.47</td>\n",
       "      <td>1</td>\n",
       "      <td>1</td>\n",
       "      <td>4</td>\n",
       "      <td>1</td>\n",
       "    </tr>\n",
       "    <tr>\n",
       "      <th>19</th>\n",
       "      <td>4</td>\n",
       "      <td>71.1</td>\n",
       "      <td>65</td>\n",
       "      <td>4.22</td>\n",
       "      <td>1.835</td>\n",
       "      <td>19.90</td>\n",
       "      <td>1</td>\n",
       "      <td>1</td>\n",
       "      <td>4</td>\n",
       "      <td>1</td>\n",
       "    </tr>\n",
       "    <tr>\n",
       "      <th>21</th>\n",
       "      <td>8</td>\n",
       "      <td>318.0</td>\n",
       "      <td>150</td>\n",
       "      <td>2.76</td>\n",
       "      <td>3.520</td>\n",
       "      <td>16.87</td>\n",
       "      <td>0</td>\n",
       "      <td>0</td>\n",
       "      <td>3</td>\n",
       "      <td>2</td>\n",
       "    </tr>\n",
       "    <tr>\n",
       "      <th>23</th>\n",
       "      <td>8</td>\n",
       "      <td>350.0</td>\n",
       "      <td>245</td>\n",
       "      <td>3.73</td>\n",
       "      <td>3.840</td>\n",
       "      <td>15.41</td>\n",
       "      <td>0</td>\n",
       "      <td>0</td>\n",
       "      <td>3</td>\n",
       "      <td>4</td>\n",
       "    </tr>\n",
       "    <tr>\n",
       "      <th>25</th>\n",
       "      <td>4</td>\n",
       "      <td>79.0</td>\n",
       "      <td>66</td>\n",
       "      <td>4.08</td>\n",
       "      <td>1.935</td>\n",
       "      <td>18.90</td>\n",
       "      <td>1</td>\n",
       "      <td>1</td>\n",
       "      <td>4</td>\n",
       "      <td>1</td>\n",
       "    </tr>\n",
       "    <tr>\n",
       "      <th>27</th>\n",
       "      <td>4</td>\n",
       "      <td>95.1</td>\n",
       "      <td>113</td>\n",
       "      <td>3.77</td>\n",
       "      <td>1.513</td>\n",
       "      <td>16.90</td>\n",
       "      <td>1</td>\n",
       "      <td>1</td>\n",
       "      <td>5</td>\n",
       "      <td>2</td>\n",
       "    </tr>\n",
       "    <tr>\n",
       "      <th>29</th>\n",
       "      <td>6</td>\n",
       "      <td>145.0</td>\n",
       "      <td>175</td>\n",
       "      <td>3.62</td>\n",
       "      <td>2.770</td>\n",
       "      <td>15.50</td>\n",
       "      <td>0</td>\n",
       "      <td>1</td>\n",
       "      <td>5</td>\n",
       "      <td>6</td>\n",
       "    </tr>\n",
       "    <tr>\n",
       "      <th>31</th>\n",
       "      <td>4</td>\n",
       "      <td>121.0</td>\n",
       "      <td>109</td>\n",
       "      <td>4.11</td>\n",
       "      <td>2.780</td>\n",
       "      <td>18.60</td>\n",
       "      <td>1</td>\n",
       "      <td>1</td>\n",
       "      <td>4</td>\n",
       "      <td>2</td>\n",
       "    </tr>\n",
       "  </tbody>\n",
       "</table>\n",
       "</div>"
      ],
      "text/plain": [
       "    cyl   disp   hp  drat     wt   qsec  vs  am  gear  carb\n",
       "1     6  160.0  110  3.90  2.875  17.02   0   1     4     4\n",
       "3     6  258.0  110  3.08  3.215  19.44   1   0     3     1\n",
       "5     6  225.0  105  2.76  3.460  20.22   1   0     3     1\n",
       "7     4  146.7   62  3.69  3.190  20.00   1   0     4     2\n",
       "9     6  167.6  123  3.92  3.440  18.30   1   0     4     4\n",
       "11    8  275.8  180  3.07  4.070  17.40   0   0     3     3\n",
       "13    8  275.8  180  3.07  3.780  18.00   0   0     3     3\n",
       "15    8  460.0  215  3.00  5.424  17.82   0   0     3     4\n",
       "17    4   78.7   66  4.08  2.200  19.47   1   1     4     1\n",
       "19    4   71.1   65  4.22  1.835  19.90   1   1     4     1\n",
       "21    8  318.0  150  2.76  3.520  16.87   0   0     3     2\n",
       "23    8  350.0  245  3.73  3.840  15.41   0   0     3     4\n",
       "25    4   79.0   66  4.08  1.935  18.90   1   1     4     1\n",
       "27    4   95.1  113  3.77  1.513  16.90   1   1     5     2\n",
       "29    6  145.0  175  3.62  2.770  15.50   0   1     5     6\n",
       "31    4  121.0  109  4.11  2.780  18.60   1   1     4     2"
      ]
     },
     "execution_count": 40,
     "metadata": {},
     "output_type": "execute_result"
    }
   ],
   "source": [
    "test"
   ]
  },
  {
   "cell_type": "code",
   "execution_count": 41,
   "id": "abb64841-3296-4069-9f29-6b14f6c09600",
   "metadata": {},
   "outputs": [],
   "source": [
    "train_label = df_label.iloc[::2]\n",
    "test_label = df_label.iloc[1::2]"
   ]
  },
  {
   "cell_type": "code",
   "execution_count": 42,
   "id": "80bf0d23-4aaf-429d-9c45-d7b710e1163e",
   "metadata": {},
   "outputs": [],
   "source": [
    "train = train.to_numpy()\n",
    "test = test.to_numpy()"
   ]
  },
  {
   "cell_type": "code",
   "execution_count": 43,
   "id": "945dc345-cd3b-4b49-a32c-44d9755ccb9c",
   "metadata": {},
   "outputs": [],
   "source": [
    "train_label = train_label['fuel_efficient'].to_list()\n",
    "test_label = test_label['fuel_efficient'].to_list()"
   ]
  },
  {
   "cell_type": "code",
   "execution_count": 44,
   "id": "7c75d652-c4a3-4670-8269-394e179c9e1e",
   "metadata": {},
   "outputs": [],
   "source": [
    "out = knn(train,train_label,test,5) # k=5"
   ]
  },
  {
   "cell_type": "code",
   "execution_count": 45,
   "id": "ae17c413-b8a9-4243-adfc-57b18e0a68f0",
   "metadata": {},
   "outputs": [
    {
     "data": {
      "text/plain": [
       "[1, 0, 0, 1, 1, 0, 0, 0, 1, 1, 0, 0, 1, 1, 1, 1]"
      ]
     },
     "execution_count": 45,
     "metadata": {},
     "output_type": "execute_result"
    }
   ],
   "source": [
    "out"
   ]
  },
  {
   "cell_type": "markdown",
   "id": "0655dc76-7e9e-47ea-ab4b-a364ef5fadd6",
   "metadata": {},
   "source": [
    "## 1-c"
   ]
  },
  {
   "cell_type": "markdown",
   "id": "0001b5b8-4165-4df1-b78b-48e60bcf5b6e",
   "metadata": {},
   "source": [
    "#### accuracy"
   ]
  },
  {
   "cell_type": "code",
   "execution_count": 46,
   "id": "75c1bfed-28e3-4520-bb08-e4367ba5b14e",
   "metadata": {},
   "outputs": [
    {
     "name": "stdout",
     "output_type": "stream",
     "text": [
      "acc:  81.25\n"
     ]
    }
   ],
   "source": [
    "cnt=0\n",
    "for i in range(len(out)):\n",
    "    if out[i] == test_label[i]:\n",
    "        cnt+=1\n",
    "acc = cnt/len(out)\n",
    "print(\"acc: \",acc*100)"
   ]
  },
  {
   "cell_type": "markdown",
   "id": "c69df188-7f50-4d99-8e90-3598600b3089",
   "metadata": {},
   "source": [
    "#### confusion matrix"
   ]
  },
  {
   "cell_type": "code",
   "execution_count": 47,
   "id": "115e5d43-4691-4948-b6ab-dce1488cd9b5",
   "metadata": {},
   "outputs": [
    {
     "name": "stdout",
     "output_type": "stream",
     "text": [
      "[[6 1]\n",
      " [2 7]]\n"
     ]
    }
   ],
   "source": [
    "cm = [[0,0],[0,0]]\n",
    "for pred,actual in zip(out,test_label):\n",
    "    cm[pred][actual]+=1\n",
    "cm = np.array(cm)\n",
    "print(cm)"
   ]
  },
  {
   "cell_type": "raw",
   "id": "9284df38-ad77-4662-81a1-c8fbd5086d31",
   "metadata": {},
   "source": [
    "             | Actual|\n",
    "             |yes| No|\n",
    "Predicted|Yes| 6 | 1 |\n",
    "         |No | 2 | 7 | "
   ]
  },
  {
   "cell_type": "markdown",
   "id": "46aa8d0d-6fcc-4d27-ba86-36436e9fe099",
   "metadata": {},
   "source": [
    "## 1-d"
   ]
  },
  {
   "cell_type": "code",
   "execution_count": 48,
   "id": "8c7ebccc-21d4-4738-981f-5820b034097b",
   "metadata": {},
   "outputs": [
    {
     "name": "stdout",
     "output_type": "stream",
     "text": [
      "[1, 0, 0, 1, 0, 0, 0, 0, 1, 1, 0, 0, 1, 1, 0, 1]\n",
      "[1, 0, 1, 1, 1, 0, 0, 0, 1, 1, 0, 0, 1, 1, 1, 1]\n",
      "[1, 0, 1, 1, 1, 0, 0, 0, 1, 1, 0, 0, 1, 1, 1, 1]\n",
      "[1, 0, 1, 1, 1, 0, 0, 0, 1, 1, 0, 0, 1, 1, 1, 1]\n",
      "[1, 0, 0, 1, 1, 0, 0, 0, 1, 1, 0, 0, 1, 1, 1, 1]\n",
      "[1, 0, 1, 1, 1, 0, 0, 0, 1, 1, 0, 0, 1, 1, 1, 1]\n",
      "[1, 0, 1, 1, 1, 0, 0, 0, 1, 1, 0, 0, 1, 1, 1, 1]\n",
      "[1, 1, 1, 1, 1, 0, 0, 0, 1, 1, 0, 0, 1, 1, 1, 1]\n",
      "[1, 1, 1, 1, 1, 0, 0, 0, 1, 1, 0, 0, 1, 1, 1, 1]\n",
      "[1, 1, 1, 1, 1, 0, 0, 0, 1, 1, 0, 0, 1, 1, 1, 1]\n",
      "[0.9375, 0.75, 0.75, 0.75, 0.8125, 0.75, 0.75, 0.8125, 0.8125, 0.8125]\n"
     ]
    }
   ],
   "source": [
    "acc_list = []\n",
    "c=0\n",
    "for k in range(1,11):\n",
    "    out = knn(train,train_label,test,k)\n",
    "    cnt=0\n",
    "    print(out)\n",
    "    for i in range(len(out)):\n",
    "        if out[i] == test_label[i]:\n",
    "            cnt+=1\n",
    "    acc = cnt/len(out)\n",
    "    acc_list.append(acc)\n",
    "print(acc_list)"
   ]
  },
  {
   "cell_type": "code",
   "execution_count": 22,
   "id": "e0a66c70-978a-4d83-b0ae-f1870fd19226",
   "metadata": {},
   "outputs": [
    {
     "data": {
      "image/png": "[encoded data removed]",
      "text/plain": [
       "<Figure size 640x480 with 1 Axes>"
      ]
     },
     "metadata": {},
     "output_type": "display_data"
    }
   ],
   "source": [
    "x=[x for x in range(1,11)]\n",
    "# print(x)\n",
    "plt.plot(x, acc_list)\n",
    "plt.xlabel('k (Number of Neighbors)')\n",
    "plt.ylabel('Accuracy')\n",
    "plt.show()"
   ]
  },
  {
   "cell_type": "code",
   "execution_count": null,
   "id": "cac91b81-bcef-47fb-b86a-20edda9788f8",
   "metadata": {},
   "outputs": [],
   "source": []
  }
 ],
 "metadata": {
  "kernelspec": {
   "display_name": "Python 3 (ipykernel)",
   "language": "python",
   "name": "python3"
  },
  "language_info": {
   "codemirror_mode": {
    "name": "ipython",
    "version": 3
   },
   "file_extension": ".py",
   "mimetype": "text/x-python",
   "name": "python",
   "nbconvert_exporter": "python",
   "pygments_lexer": "ipython3",
   "version": "3.12.2"
  }
 },
 "nbformat": 4,
 "nbformat_minor": 5
}
